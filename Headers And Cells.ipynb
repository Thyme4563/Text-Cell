{
  "nbformat": 4,
  "nbformat_minor": 0,
  "metadata": {
    "colab": {
      "provenance": [],
      "authorship_tag": "ABX9TyP4+BDom4sSCauvpbue18w0",
      "include_colab_link": true
    },
    "kernelspec": {
      "name": "python3",
      "display_name": "Python 3"
    },
    "language_info": {
      "name": "python"
    }
  },
  "cells": [
    {
      "cell_type": "markdown",
      "metadata": {
        "id": "view-in-github",
        "colab_type": "text"
      },
      "source": [
        "<a href=\"https://colab.research.google.com/github/Thyme4563/Text-Cell/blob/main/Headers%20And%20Cells.ipynb\" target=\"_parent\"><img src=\"https://colab.research.google.com/assets/colab-badge.svg\" alt=\"Open In Colab\"/></a>"
      ]
    },
    {
      "cell_type": "markdown",
      "source": [
        "#This is a **Main** Heading\n",
        "## This is a *Second Level* Heading\n",
        "This is some text.\n"
      ],
      "metadata": {
        "id": "htn_uolmyqQI"
      }
    },
    {
      "cell_type": "markdown",
      "source": [
        "# This is Section Header"
      ],
      "metadata": {
        "id": "Sa3hYEZ8cNpH"
      }
    }
  ]
}